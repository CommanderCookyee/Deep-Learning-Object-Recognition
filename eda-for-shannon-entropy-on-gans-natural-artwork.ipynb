{
 "cells": [
  {
   "cell_type": "code",
   "execution_count": 1,
   "id": "154e1d99",
   "metadata": {
    "_cell_guid": "b1076dfc-b9ad-4769-8c92-a6c4dae69d19",
    "_uuid": "8f2839f25d086af736a60e9eeb907d3b93b6e0e5",
    "execution": {
     "iopub.execute_input": "2023-02-18T06:46:45.992309Z",
     "iopub.status.busy": "2023-02-18T06:46:45.991875Z",
     "iopub.status.idle": "2023-02-18T06:46:54.869069Z",
     "shell.execute_reply": "2023-02-18T06:46:54.867994Z"
    },
    "papermill": {
     "duration": 8.885468,
     "end_time": "2023-02-18T06:46:54.871638",
     "exception": false,
     "start_time": "2023-02-18T06:46:45.986170",
     "status": "completed"
    },
    "tags": []
   },
   "outputs": [],
   "source": [
    "\n",
    "import matplotlib.pyplot as plt\n",
    "import numpy as np\n",
    "import PIL\n",
    "import requests\n",
    "import os\n",
    "import random\n",
    "import pickle\n",
    "import matplotlib.pyplot as plt\n",
    "import tensorflow as jf\n",
    "from tensorflow.keras import layers\n",
    "from keras.models import Sequential\n",
    "from tensorflow.keras.optimizers import Adam\n",
    "from tensorflow.python.keras import backend as K\n",
    "import pathlib\n",
    "from tensorflow.keras.callbacks import EarlyStopping\n",
    "\n",
    "\n",
    "# importing Dependencies\n",
    "\n",
    "import os\n",
    "import glob\n",
    "import pandas as pd \n",
    "\n",
    "\n",
    "import tensorflow as tf\n",
    "from keras.models import Sequential\n",
    "from tensorflow.keras import layers\n",
    "import tensorflow.keras as keras\n",
    "\n",
    "\n",
    "from tensorflow.keras.preprocessing.image import ImageDataGenerator\n",
    "from tensorflow.keras.utils import to_categorical\n",
    "from tensorflow.keras.layers import Dense, Input, Dropout, concatenate,Conv2D,MaxPooling2D, Flatten,Dense,BatchNormalization\n",
    "\n",
    "from tensorflow.keras.models import Model\n",
    "from tensorflow.keras.optimizers import Adam\n",
    "from tensorflow.keras.utils import plot_model\n",
    "from tensorflow.keras.callbacks import ReduceLROnPlateau\n",
    "\n",
    "from skimage.feature import greycomatrix, greycoprops\n",
    "from sklearn.metrics import confusion_matrix, classification_report\n",
    "from sklearn.model_selection import train_test_split\n",
    "from tensorflow.keras.applications import ResNet50\n",
    "from tensorflow.keras.applications import NASNetLarge\n",
    "import os\n",
    "import numpy as np\n",
    "from PIL import Image\n",
    "import cv2\n",
    "import skimage\n",
    "import numpy as np\n",
    "from skimage.measure import shannon_entropy\n"
   ]
  },
  {
   "cell_type": "code",
   "execution_count": 2,
   "id": "b2c20962",
   "metadata": {
    "execution": {
     "iopub.execute_input": "2023-02-18T06:46:54.879515Z",
     "iopub.status.busy": "2023-02-18T06:46:54.878863Z",
     "iopub.status.idle": "2023-02-18T06:47:08.289077Z",
     "shell.execute_reply": "2023-02-18T06:47:08.286476Z"
    },
    "papermill": {
     "duration": 13.416556,
     "end_time": "2023-02-18T06:47:08.291516",
     "exception": false,
     "start_time": "2023-02-18T06:46:54.874960",
     "status": "completed"
    },
    "tags": []
   },
   "outputs": [
    {
     "name": "stdout",
     "output_type": "stream",
     "text": [
      "100\n"
     ]
    }
   ],
   "source": [
    "import matplotlib.pyplot as plt\n",
    "from skimage import io\n",
    "from skimage.measure import shannon_entropy\n",
    "count = 0\n",
    "entropy_r_avg= 0\n",
    "entropy_g_avg= 0\n",
    "entropy_b_avg= 0\n",
    "\n",
    "\n",
    "# Load a natural image\n",
    "dir_path = '/kaggle/input/v5minor100/V5Minor100/Natural'\n",
    "\n",
    "for img in os.listdir(dir_path):\n",
    "    try:\n",
    "        img = '/kaggle/input/v5minor100/V5Minor100/Natural/' +img\n",
    "        image = cv2.imread(img, 3)\n",
    "        image = cv2.resize(image, (256,256))\n",
    "\n",
    "     \n",
    "\n",
    "        # Calculate Shannon entropy for each channel\n",
    "        entropy_r = shannon_entropy(image[:,:,0])\n",
    "        entropy_g = shannon_entropy(image[:,:,1])\n",
    "        entropy_b = shannon_entropy(image[:,:,2])\n",
    "        entropy_r_avg += entropy_r\n",
    "        entropy_g_avg += entropy_g\n",
    "        entropy_b_avg += entropy_b\n",
    "        count +=1\n",
    "        if count == 100:\n",
    "            break\n",
    "    except:\n",
    "        pass\n",
    "\n",
    "# Print the results\n",
    "print(count)\n",
    "ravg=entropy_r_avg/count\n",
    "gavg=entropy_g_avg/count\n",
    "bavg=entropy_b_avg/count\n"
   ]
  },
  {
   "cell_type": "code",
   "execution_count": 3,
   "id": "d2e07e27",
   "metadata": {
    "execution": {
     "iopub.execute_input": "2023-02-18T06:47:08.299300Z",
     "iopub.status.busy": "2023-02-18T06:47:08.298921Z",
     "iopub.status.idle": "2023-02-18T06:47:08.304286Z",
     "shell.execute_reply": "2023-02-18T06:47:08.303280Z"
    },
    "papermill": {
     "duration": 0.012348,
     "end_time": "2023-02-18T06:47:08.306986",
     "exception": false,
     "start_time": "2023-02-18T06:47:08.294638",
     "status": "completed"
    },
    "tags": []
   },
   "outputs": [
    {
     "name": "stdout",
     "output_type": "stream",
     "text": [
      "Shannon entropy for the red channel:  6.475444610952518\n",
      "Shannon entropy for the green channel:  6.591299404299251\n",
      "Shannon entropy for the blue channel:  6.548841910133652\n"
     ]
    }
   ],
   "source": [
    "print(\"Shannon entropy for the red channel: \", ravg)\n",
    "print(\"Shannon entropy for the green channel: \", gavg)\n",
    "print(\"Shannon entropy for the blue channel: \", bavg)"
   ]
  },
  {
   "cell_type": "code",
   "execution_count": 4,
   "id": "2f56964c",
   "metadata": {
    "execution": {
     "iopub.execute_input": "2023-02-18T06:47:08.314565Z",
     "iopub.status.busy": "2023-02-18T06:47:08.314190Z",
     "iopub.status.idle": "2023-02-18T06:47:19.630098Z",
     "shell.execute_reply": "2023-02-18T06:47:19.628819Z"
    },
    "papermill": {
     "duration": 11.322361,
     "end_time": "2023-02-18T06:47:19.632410",
     "exception": false,
     "start_time": "2023-02-18T06:47:08.310049",
     "status": "completed"
    },
    "tags": []
   },
   "outputs": [
    {
     "name": "stdout",
     "output_type": "stream",
     "text": [
      "100\n"
     ]
    }
   ],
   "source": [
    "import matplotlib.pyplot as plt\n",
    "from skimage import io\n",
    "from skimage.measure import shannon_entropy\n",
    "count = 0\n",
    "entropy_r_avgGANS= 0\n",
    "entropy_g_avgGANS= 0\n",
    "entropy_b_avgGANS= 0\n",
    "\n",
    "\n",
    "# Load a natural image\n",
    "dir_path = '/kaggle/input/v5minor100/V5Minor100/Synthetic'\n",
    "\n",
    "for img in os.listdir(dir_path):\n",
    "    try:\n",
    "        img = '/kaggle/input/v5minor100/V5Minor100/Synthetic/' +img\n",
    "        image = cv2.imread(img, 3)\n",
    "        image = cv2.resize(image, (256,256))\n",
    "\n",
    "     \n",
    "\n",
    "        # Calculate Shannon entropy for each channel\n",
    "        entropy_r = shannon_entropy(image[:,:,0])\n",
    "        entropy_g = shannon_entropy(image[:,:,1])\n",
    "        entropy_b = shannon_entropy(image[:,:,2])\n",
    "        entropy_r_avgGANS += entropy_r\n",
    "        entropy_g_avgGANS += entropy_g\n",
    "        entropy_b_avgGANS += entropy_b\n",
    "        count +=1\n",
    "        if count == 100:\n",
    "            break\n",
    "    except:\n",
    "        pass\n",
    "\n",
    "# Print the results\n",
    "print(count)\n",
    "ravgGAN=entropy_r_avgGANS/count\n",
    "gavgGAN=entropy_g_avgGANS/count\n",
    "bavgGAN=entropy_b_avgGANS/count"
   ]
  },
  {
   "cell_type": "code",
   "execution_count": 5,
   "id": "5b9ce34f",
   "metadata": {
    "execution": {
     "iopub.execute_input": "2023-02-18T06:47:19.640510Z",
     "iopub.status.busy": "2023-02-18T06:47:19.640138Z",
     "iopub.status.idle": "2023-02-18T06:47:19.645308Z",
     "shell.execute_reply": "2023-02-18T06:47:19.644517Z"
    },
    "papermill": {
     "duration": 0.011783,
     "end_time": "2023-02-18T06:47:19.647551",
     "exception": false,
     "start_time": "2023-02-18T06:47:19.635768",
     "status": "completed"
    },
    "tags": []
   },
   "outputs": [
    {
     "name": "stdout",
     "output_type": "stream",
     "text": [
      "Shannon entropy for the red channel:  7.0752610077349365\n",
      "Shannon entropy for the green channel:  7.212415275911556\n",
      "Shannon entropy for the blue channel:  7.2045331620977064\n"
     ]
    }
   ],
   "source": [
    "print(\"Shannon entropy for the red channel: \", ravgGAN)\n",
    "print(\"Shannon entropy for the green channel: \", gavgGAN)\n",
    "print(\"Shannon entropy for the blue channel: \", bavgGAN)"
   ]
  },
  {
   "cell_type": "code",
   "execution_count": 6,
   "id": "ccd323d1",
   "metadata": {
    "execution": {
     "iopub.execute_input": "2023-02-18T06:47:19.655766Z",
     "iopub.status.busy": "2023-02-18T06:47:19.655181Z",
     "iopub.status.idle": "2023-02-18T06:47:19.964680Z",
     "shell.execute_reply": "2023-02-18T06:47:19.963590Z"
    },
    "papermill": {
     "duration": 0.316873,
     "end_time": "2023-02-18T06:47:19.967892",
     "exception": false,
     "start_time": "2023-02-18T06:47:19.651019",
     "status": "completed"
    },
    "tags": []
   },
   "outputs": [
    {
     "data": {
      "image/png": "[encoded data removed]",
      "text/plain": [
       "<Figure size 640x480 with 1 Axes>"
      ]
     },
     "metadata": {},
     "output_type": "display_data"
    }
   ],
   "source": [
    "# Plot a bar chart of the Shannon entropy values for each channel of the two images\n",
    "fig, ax = plt.subplots()\n",
    "index = ['Red', 'Green', 'Blue']\n",
    "bar_width = 0.35\n",
    "opacity = 0.8\n",
    "\n",
    "natural_image_entropies = [ravg, gavg, bavg]\n",
    "gan_image_entropies = [ravgGAN, gavgGAN, bavgGAN]\n",
    "\n",
    "rects1 = ax.bar(index, natural_image_entropies, bar_width,\n",
    "                alpha=opacity, color='green',\n",
    "                label='Natural Image')\n",
    "\n",
    "rects2 = ax.bar(index, gan_image_entropies, bar_width,\n",
    "                alpha=0.5, color='r',\n",
    "                label='GAN-generated Image')\n",
    "\n",
    "ax.set_xlabel('Color Channels')\n",
    "ax.set_ylabel('Shannon Entropy')\n",
    "ax.set_title('Comparison of Shannon Entropy for Natural and GAN-generated Images')\n",
    "ax.set_xticks(index)\n",
    "ax.set_xticklabels(('Red', 'Green', 'Blue'))\n",
    "ax.legend()\n",
    "\n",
    "plt.tight_layout()\n",
    "plt.show()\n"
   ]
  },
  {
   "cell_type": "code",
   "execution_count": null,
   "id": "459c9e06",
   "metadata": {
    "papermill": {
     "duration": 0.003242,
     "end_time": "2023-02-18T06:47:19.974673",
     "exception": false,
     "start_time": "2023-02-18T06:47:19.971431",
     "status": "completed"
    },
    "tags": []
   },
   "outputs": [],
   "source": []
  }
 ],
 "metadata": {
  "kernelspec": {
   "display_name": "Python 3",
   "language": "python",
   "name": "python3"
  },
  "language_info": {
   "codemirror_mode": {
    "name": "ipython",
    "version": 3
   },
   "file_extension": ".py",
   "mimetype": "text/x-python",
   "name": "python",
   "nbconvert_exporter": "python",
   "pygments_lexer": "ipython3",
   "version": "3.7.12"
  },
  "papermill": {
   "default_parameters": {},
   "duration": 45.211973,
   "end_time": "2023-02-18T06:47:22.752203",
   "environment_variables": {},
   "exception": null,
   "input_path": "__notebook__.ipynb",
   "output_path": "__notebook__.ipynb",
   "parameters": {},
   "start_time": "2023-02-18T06:46:37.540230",
   "version": "2.3.4"
  }
 },
 "nbformat": 4,
 "nbformat_minor": 5
}
